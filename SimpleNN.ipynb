{
  "nbformat": 4,
  "nbformat_minor": 0,
  "metadata": {
    "colab": {
      "provenance": [],
      "gpuType": "T4",
      "authorship_tag": "ABX9TyNXao+k5GntjerF+gAkeCjt",
      "include_colab_link": true
    },
    "kernelspec": {
      "name": "python3",
      "display_name": "Python 3"
    },
    "language_info": {
      "name": "python"
    },
    "accelerator": "GPU"
  },
  "cells": [
    {
      "cell_type": "markdown",
      "metadata": {
        "id": "view-in-github",
        "colab_type": "text"
      },
      "source": [
        "<a href=\"https://colab.research.google.com/github/hackermatrix/Neural-Networks/blob/main/SimpleNN.ipynb\" target=\"_parent\"><img src=\"https://colab.research.google.com/assets/colab-badge.svg\" alt=\"Open In Colab\"/></a>"
      ]
    },
    {
      "cell_type": "code",
      "execution_count": null,
      "metadata": {
        "id": "l1kglZYwG49Y"
      },
      "outputs": [],
      "source": [
        "import torch\n",
        "import torch.nn as nn\n",
        "import torch.nn.functional as F"
      ]
    },
    {
      "cell_type": "code",
      "source": [
        "# Create a Model Class that inherits nn.Module\n",
        "class Model(nn.Module):\n",
        "  #INput Layer (4 features of the flower) -->\n",
        "  # Hidden Layer1 (number of neurons) -->\n",
        "  # H2 (n) -->\n",
        "  # Output (3 classes of iris flower)\n",
        "\n",
        "  def __init__(self, in_features=4,h1=8, h2=9, out_features=3):\n",
        "    super().__init__() # instantiate out nn.Module\n",
        "    self.fc1 = nn.Linear(in_features,h1)\n",
        "    self.fc2 = nn.Linear(h1,h2)\n",
        "    self.out = nn.Linear(h2, out_features)\n",
        "\n",
        "  def forward(self,x):\n",
        "    x = F.relu(self.fc1(x))\n",
        "    x = F.relu(self.fc2(x))\n",
        "    x = self.out(x)\n",
        "\n",
        "    return x\n"
      ],
      "metadata": {
        "id": "4S5AAzCcaaA4"
      },
      "execution_count": null,
      "outputs": []
    },
    {
      "cell_type": "code",
      "source": [
        "# Pick a manual seed for randomization\n",
        "torch.manual_seed(41)\n",
        "# Create an instance of model\n",
        "model = Model()"
      ],
      "metadata": {
        "id": "nn5td0oRcEws"
      },
      "execution_count": null,
      "outputs": []
    },
    {
      "cell_type": "code",
      "source": [
        "import pandas as pd\n",
        "import matplotlib.pyplot as plt\n",
        "%matplotlib inline"
      ],
      "metadata": {
        "id": "ihzfXzDhdBxG"
      },
      "execution_count": null,
      "outputs": []
    },
    {
      "cell_type": "code",
      "source": [
        "url = 'https://gist.githubusercontent.com/curran/a08a1080b88344b0c8a7/raw/0e7a9b0a5d22642a06d3d5b9bcbad9890c8ee534/iris.csv'\n",
        "my_df = pd.read_csv(url)"
      ],
      "metadata": {
        "id": "GzdqdXhbdJvX"
      },
      "execution_count": null,
      "outputs": []
    },
    {
      "cell_type": "code",
      "source": [
        "my_df.head()"
      ],
      "metadata": {
        "colab": {
          "base_uri": "https://localhost:8080/",
          "height": 206
        },
        "id": "zzuPD1m5dlSw",
        "outputId": "6a70b254-ee98-4aef-a2d4-2cd9ca36648d"
      },
      "execution_count": null,
      "outputs": [
        {
          "output_type": "execute_result",
          "data": {
            "text/plain": [
              "   sepal_length  sepal_width  petal_length  petal_width species\n",
              "0           5.1          3.5           1.4          0.2  setosa\n",
              "1           4.9          3.0           1.4          0.2  setosa\n",
              "2           4.7          3.2           1.3          0.2  setosa\n",
              "3           4.6          3.1           1.5          0.2  setosa\n",
              "4           5.0          3.6           1.4          0.2  setosa"
            ],
            "text/html": [
              "\n",
              "  <div id=\"df-7b92254b-8447-4ced-8bc8-379ab2430c75\" class=\"colab-df-container\">\n",
              "    <div>\n",
              "<style scoped>\n",
              "    .dataframe tbody tr th:only-of-type {\n",
              "        vertical-align: middle;\n",
              "    }\n",
              "\n",
              "    .dataframe tbody tr th {\n",
              "        vertical-align: top;\n",
              "    }\n",
              "\n",
              "    .dataframe thead th {\n",
              "        text-align: right;\n",
              "    }\n",
              "</style>\n",
              "<table border=\"1\" class=\"dataframe\">\n",
              "  <thead>\n",
              "    <tr style=\"text-align: right;\">\n",
              "      <th></th>\n",
              "      <th>sepal_length</th>\n",
              "      <th>sepal_width</th>\n",
              "      <th>petal_length</th>\n",
              "      <th>petal_width</th>\n",
              "      <th>species</th>\n",
              "    </tr>\n",
              "  </thead>\n",
              "  <tbody>\n",
              "    <tr>\n",
              "      <th>0</th>\n",
              "      <td>5.1</td>\n",
              "      <td>3.5</td>\n",
              "      <td>1.4</td>\n",
              "      <td>0.2</td>\n",
              "      <td>setosa</td>\n",
              "    </tr>\n",
              "    <tr>\n",
              "      <th>1</th>\n",
              "      <td>4.9</td>\n",
              "      <td>3.0</td>\n",
              "      <td>1.4</td>\n",
              "      <td>0.2</td>\n",
              "      <td>setosa</td>\n",
              "    </tr>\n",
              "    <tr>\n",
              "      <th>2</th>\n",
              "      <td>4.7</td>\n",
              "      <td>3.2</td>\n",
              "      <td>1.3</td>\n",
              "      <td>0.2</td>\n",
              "      <td>setosa</td>\n",
              "    </tr>\n",
              "    <tr>\n",
              "      <th>3</th>\n",
              "      <td>4.6</td>\n",
              "      <td>3.1</td>\n",
              "      <td>1.5</td>\n",
              "      <td>0.2</td>\n",
              "      <td>setosa</td>\n",
              "    </tr>\n",
              "    <tr>\n",
              "      <th>4</th>\n",
              "      <td>5.0</td>\n",
              "      <td>3.6</td>\n",
              "      <td>1.4</td>\n",
              "      <td>0.2</td>\n",
              "      <td>setosa</td>\n",
              "    </tr>\n",
              "  </tbody>\n",
              "</table>\n",
              "</div>\n",
              "    <div class=\"colab-df-buttons\">\n",
              "\n",
              "  <div class=\"colab-df-container\">\n",
              "    <button class=\"colab-df-convert\" onclick=\"convertToInteractive('df-7b92254b-8447-4ced-8bc8-379ab2430c75')\"\n",
              "            title=\"Convert this dataframe to an interactive table.\"\n",
              "            style=\"display:none;\">\n",
              "\n",
              "  <svg xmlns=\"http://www.w3.org/2000/svg\" height=\"24px\" viewBox=\"0 -960 960 960\">\n",
              "    <path d=\"M120-120v-720h720v720H120Zm60-500h600v-160H180v160Zm220 220h160v-160H400v160Zm0 220h160v-160H400v160ZM180-400h160v-160H180v160Zm440 0h160v-160H620v160ZM180-180h160v-160H180v160Zm440 0h160v-160H620v160Z\"/>\n",
              "  </svg>\n",
              "    </button>\n",
              "\n",
              "  <style>\n",
              "    .colab-df-container {\n",
              "      display:flex;\n",
              "      gap: 12px;\n",
              "    }\n",
              "\n",
              "    .colab-df-convert {\n",
              "      background-color: #E8F0FE;\n",
              "      border: none;\n",
              "      border-radius: 50%;\n",
              "      cursor: pointer;\n",
              "      display: none;\n",
              "      fill: #1967D2;\n",
              "      height: 32px;\n",
              "      padding: 0 0 0 0;\n",
              "      width: 32px;\n",
              "    }\n",
              "\n",
              "    .colab-df-convert:hover {\n",
              "      background-color: #E2EBFA;\n",
              "      box-shadow: 0px 1px 2px rgba(60, 64, 67, 0.3), 0px 1px 3px 1px rgba(60, 64, 67, 0.15);\n",
              "      fill: #174EA6;\n",
              "    }\n",
              "\n",
              "    .colab-df-buttons div {\n",
              "      margin-bottom: 4px;\n",
              "    }\n",
              "\n",
              "    [theme=dark] .colab-df-convert {\n",
              "      background-color: #3B4455;\n",
              "      fill: #D2E3FC;\n",
              "    }\n",
              "\n",
              "    [theme=dark] .colab-df-convert:hover {\n",
              "      background-color: #434B5C;\n",
              "      box-shadow: 0px 1px 3px 1px rgba(0, 0, 0, 0.15);\n",
              "      filter: drop-shadow(0px 1px 2px rgba(0, 0, 0, 0.3));\n",
              "      fill: #FFFFFF;\n",
              "    }\n",
              "  </style>\n",
              "\n",
              "    <script>\n",
              "      const buttonEl =\n",
              "        document.querySelector('#df-7b92254b-8447-4ced-8bc8-379ab2430c75 button.colab-df-convert');\n",
              "      buttonEl.style.display =\n",
              "        google.colab.kernel.accessAllowed ? 'block' : 'none';\n",
              "\n",
              "      async function convertToInteractive(key) {\n",
              "        const element = document.querySelector('#df-7b92254b-8447-4ced-8bc8-379ab2430c75');\n",
              "        const dataTable =\n",
              "          await google.colab.kernel.invokeFunction('convertToInteractive',\n",
              "                                                    [key], {});\n",
              "        if (!dataTable) return;\n",
              "\n",
              "        const docLinkHtml = 'Like what you see? Visit the ' +\n",
              "          '<a target=\"_blank\" href=https://colab.research.google.com/notebooks/data_table.ipynb>data table notebook</a>'\n",
              "          + ' to learn more about interactive tables.';\n",
              "        element.innerHTML = '';\n",
              "        dataTable['output_type'] = 'display_data';\n",
              "        await google.colab.output.renderOutput(dataTable, element);\n",
              "        const docLink = document.createElement('div');\n",
              "        docLink.innerHTML = docLinkHtml;\n",
              "        element.appendChild(docLink);\n",
              "      }\n",
              "    </script>\n",
              "  </div>\n",
              "\n",
              "\n",
              "<div id=\"df-a8e7edd0-145d-4c59-8c2d-a6694a9570d5\">\n",
              "  <button class=\"colab-df-quickchart\" onclick=\"quickchart('df-a8e7edd0-145d-4c59-8c2d-a6694a9570d5')\"\n",
              "            title=\"Suggest charts\"\n",
              "            style=\"display:none;\">\n",
              "\n",
              "<svg xmlns=\"http://www.w3.org/2000/svg\" height=\"24px\"viewBox=\"0 0 24 24\"\n",
              "     width=\"24px\">\n",
              "    <g>\n",
              "        <path d=\"M19 3H5c-1.1 0-2 .9-2 2v14c0 1.1.9 2 2 2h14c1.1 0 2-.9 2-2V5c0-1.1-.9-2-2-2zM9 17H7v-7h2v7zm4 0h-2V7h2v10zm4 0h-2v-4h2v4z\"/>\n",
              "    </g>\n",
              "</svg>\n",
              "  </button>\n",
              "\n",
              "<style>\n",
              "  .colab-df-quickchart {\n",
              "      --bg-color: #E8F0FE;\n",
              "      --fill-color: #1967D2;\n",
              "      --hover-bg-color: #E2EBFA;\n",
              "      --hover-fill-color: #174EA6;\n",
              "      --disabled-fill-color: #AAA;\n",
              "      --disabled-bg-color: #DDD;\n",
              "  }\n",
              "\n",
              "  [theme=dark] .colab-df-quickchart {\n",
              "      --bg-color: #3B4455;\n",
              "      --fill-color: #D2E3FC;\n",
              "      --hover-bg-color: #434B5C;\n",
              "      --hover-fill-color: #FFFFFF;\n",
              "      --disabled-bg-color: #3B4455;\n",
              "      --disabled-fill-color: #666;\n",
              "  }\n",
              "\n",
              "  .colab-df-quickchart {\n",
              "    background-color: var(--bg-color);\n",
              "    border: none;\n",
              "    border-radius: 50%;\n",
              "    cursor: pointer;\n",
              "    display: none;\n",
              "    fill: var(--fill-color);\n",
              "    height: 32px;\n",
              "    padding: 0;\n",
              "    width: 32px;\n",
              "  }\n",
              "\n",
              "  .colab-df-quickchart:hover {\n",
              "    background-color: var(--hover-bg-color);\n",
              "    box-shadow: 0 1px 2px rgba(60, 64, 67, 0.3), 0 1px 3px 1px rgba(60, 64, 67, 0.15);\n",
              "    fill: var(--button-hover-fill-color);\n",
              "  }\n",
              "\n",
              "  .colab-df-quickchart-complete:disabled,\n",
              "  .colab-df-quickchart-complete:disabled:hover {\n",
              "    background-color: var(--disabled-bg-color);\n",
              "    fill: var(--disabled-fill-color);\n",
              "    box-shadow: none;\n",
              "  }\n",
              "\n",
              "  .colab-df-spinner {\n",
              "    border: 2px solid var(--fill-color);\n",
              "    border-color: transparent;\n",
              "    border-bottom-color: var(--fill-color);\n",
              "    animation:\n",
              "      spin 1s steps(1) infinite;\n",
              "  }\n",
              "\n",
              "  @keyframes spin {\n",
              "    0% {\n",
              "      border-color: transparent;\n",
              "      border-bottom-color: var(--fill-color);\n",
              "      border-left-color: var(--fill-color);\n",
              "    }\n",
              "    20% {\n",
              "      border-color: transparent;\n",
              "      border-left-color: var(--fill-color);\n",
              "      border-top-color: var(--fill-color);\n",
              "    }\n",
              "    30% {\n",
              "      border-color: transparent;\n",
              "      border-left-color: var(--fill-color);\n",
              "      border-top-color: var(--fill-color);\n",
              "      border-right-color: var(--fill-color);\n",
              "    }\n",
              "    40% {\n",
              "      border-color: transparent;\n",
              "      border-right-color: var(--fill-color);\n",
              "      border-top-color: var(--fill-color);\n",
              "    }\n",
              "    60% {\n",
              "      border-color: transparent;\n",
              "      border-right-color: var(--fill-color);\n",
              "    }\n",
              "    80% {\n",
              "      border-color: transparent;\n",
              "      border-right-color: var(--fill-color);\n",
              "      border-bottom-color: var(--fill-color);\n",
              "    }\n",
              "    90% {\n",
              "      border-color: transparent;\n",
              "      border-bottom-color: var(--fill-color);\n",
              "    }\n",
              "  }\n",
              "</style>\n",
              "\n",
              "  <script>\n",
              "    async function quickchart(key) {\n",
              "      const quickchartButtonEl =\n",
              "        document.querySelector('#' + key + ' button');\n",
              "      quickchartButtonEl.disabled = true;  // To prevent multiple clicks.\n",
              "      quickchartButtonEl.classList.add('colab-df-spinner');\n",
              "      try {\n",
              "        const charts = await google.colab.kernel.invokeFunction(\n",
              "            'suggestCharts', [key], {});\n",
              "      } catch (error) {\n",
              "        console.error('Error during call to suggestCharts:', error);\n",
              "      }\n",
              "      quickchartButtonEl.classList.remove('colab-df-spinner');\n",
              "      quickchartButtonEl.classList.add('colab-df-quickchart-complete');\n",
              "    }\n",
              "    (() => {\n",
              "      let quickchartButtonEl =\n",
              "        document.querySelector('#df-a8e7edd0-145d-4c59-8c2d-a6694a9570d5 button');\n",
              "      quickchartButtonEl.style.display =\n",
              "        google.colab.kernel.accessAllowed ? 'block' : 'none';\n",
              "    })();\n",
              "  </script>\n",
              "</div>\n",
              "\n",
              "    </div>\n",
              "  </div>\n"
            ],
            "application/vnd.google.colaboratory.intrinsic+json": {
              "type": "dataframe",
              "variable_name": "my_df",
              "summary": "{\n  \"name\": \"my_df\",\n  \"rows\": 150,\n  \"fields\": [\n    {\n      \"column\": \"sepal_length\",\n      \"properties\": {\n        \"dtype\": \"number\",\n        \"std\": 0.828066127977863,\n        \"min\": 4.3,\n        \"max\": 7.9,\n        \"num_unique_values\": 35,\n        \"samples\": [\n          6.2,\n          4.5,\n          5.6\n        ],\n        \"semantic_type\": \"\",\n        \"description\": \"\"\n      }\n    },\n    {\n      \"column\": \"sepal_width\",\n      \"properties\": {\n        \"dtype\": \"number\",\n        \"std\": 0.4335943113621737,\n        \"min\": 2.0,\n        \"max\": 4.4,\n        \"num_unique_values\": 23,\n        \"samples\": [\n          2.3,\n          4.0,\n          3.5\n        ],\n        \"semantic_type\": \"\",\n        \"description\": \"\"\n      }\n    },\n    {\n      \"column\": \"petal_length\",\n      \"properties\": {\n        \"dtype\": \"number\",\n        \"std\": 1.7644204199522626,\n        \"min\": 1.0,\n        \"max\": 6.9,\n        \"num_unique_values\": 43,\n        \"samples\": [\n          6.7,\n          3.8,\n          3.7\n        ],\n        \"semantic_type\": \"\",\n        \"description\": \"\"\n      }\n    },\n    {\n      \"column\": \"petal_width\",\n      \"properties\": {\n        \"dtype\": \"number\",\n        \"std\": 0.7631607417008411,\n        \"min\": 0.1,\n        \"max\": 2.5,\n        \"num_unique_values\": 22,\n        \"samples\": [\n          0.2,\n          1.2,\n          1.3\n        ],\n        \"semantic_type\": \"\",\n        \"description\": \"\"\n      }\n    },\n    {\n      \"column\": \"species\",\n      \"properties\": {\n        \"dtype\": \"category\",\n        \"num_unique_values\": 3,\n        \"samples\": [\n          \"setosa\",\n          \"versicolor\",\n          \"virginica\"\n        ],\n        \"semantic_type\": \"\",\n        \"description\": \"\"\n      }\n    }\n  ]\n}"
            }
          },
          "metadata": {},
          "execution_count": 8
        }
      ]
    },
    {
      "cell_type": "code",
      "source": [
        "# Change last columns from strings to int\n",
        "my_df['species'] = my_df['species'].replace('setosa',0.0)\n",
        "my_df['species'] = my_df['species'].replace('versicolor',1.0)\n",
        "my_df['species'] = my_df['species'].replace('virginica',2.0)\n"
      ],
      "metadata": {
        "id": "bwuO9z8seaMs"
      },
      "execution_count": null,
      "outputs": []
    },
    {
      "cell_type": "code",
      "source": [
        "X = my_df.drop('species',axis =1 )\n",
        "Y = my_df['species']"
      ],
      "metadata": {
        "id": "EcE7lldoezrr"
      },
      "execution_count": null,
      "outputs": []
    },
    {
      "cell_type": "code",
      "source": [
        "# Convert these to numpy arrays\n",
        "X = X.values\n",
        "Y = Y.values"
      ],
      "metadata": {
        "id": "DYISt00AfcRj"
      },
      "execution_count": null,
      "outputs": []
    },
    {
      "cell_type": "code",
      "source": [
        "from sklearn.model_selection import train_test_split"
      ],
      "metadata": {
        "id": "IrmPyeVtf-_o"
      },
      "execution_count": null,
      "outputs": []
    },
    {
      "cell_type": "code",
      "source": [
        "# Train Test Split\n",
        "X_train,X_test, Y_train,Y_test = train_test_split(X,Y,test_size=0.2,random_state=25)"
      ],
      "metadata": {
        "id": "CILAzWeJfoMq"
      },
      "execution_count": null,
      "outputs": []
    },
    {
      "cell_type": "code",
      "source": [
        "# Convert X data to Float Tensor\n",
        "X_train = torch.FloatTensor(X_train)\n",
        "X_test = torch.FloatTensor(X_test)\n"
      ],
      "metadata": {
        "id": "sbykj-XfgM4P"
      },
      "execution_count": null,
      "outputs": []
    },
    {
      "cell_type": "code",
      "source": [
        "# Convert y labels to tensor long\n",
        "Y_train = torch.LongTensor(Y_train)\n",
        "Y_test = torch.LongTensor(Y_test)\n"
      ],
      "metadata": {
        "id": "IE6vbiOkgyJd"
      },
      "execution_count": null,
      "outputs": []
    },
    {
      "cell_type": "code",
      "source": [
        "# Set the Criterion of model  to measure Error\n",
        "criterion = nn.CrossEntropyLoss()\n",
        "# Choosing Adam Optimizer , lr i.e learning rate of the model\n",
        "optimizer = torch.optim.Adam(model.parameters(),lr=0.001)"
      ],
      "metadata": {
        "id": "NRg8KEhXh152"
      },
      "execution_count": null,
      "outputs": []
    },
    {
      "cell_type": "code",
      "source": [
        "# Train our model\n",
        "epochs = 1000\n",
        "losses = []\n",
        "\n",
        "for i in range(epochs):\n",
        "  # Go forward and get a prediction\n",
        "  Y_pred = model.forward(X_train) # Get predicted Results\n",
        "\n",
        "  # Measure the loss/error\n",
        "  loss = criterion(Y_pred,Y_train) #  Predicted values vs the Y_train\n",
        "\n",
        "  # Keep Trach of out losses\n",
        "  losses.append(loss.detach().numpy())\n",
        "\n",
        "  # print every 10 epoch\n",
        "  if i%10 == 0 :\n",
        "    print(f\"Epoch: {i} and loss: {loss}\")\n",
        "\n",
        "  # Do some back propagation\n",
        "  optimizer.zero_grad()\n",
        "  loss.backward()\n",
        "  optimizer.step()"
      ],
      "metadata": {
        "colab": {
          "base_uri": "https://localhost:8080/"
        },
        "id": "qhdYRJbli9SY",
        "outputId": "6bc2aa53-3e19-458a-facb-da5533f43430"
      },
      "execution_count": null,
      "outputs": [
        {
          "output_type": "stream",
          "name": "stdout",
          "text": [
            "Epoch: 0 and loss: 0.9572200775146484\n",
            "Epoch: 10 and loss: 0.9264551997184753\n",
            "Epoch: 20 and loss: 0.8925918340682983\n",
            "Epoch: 30 and loss: 0.854829728603363\n",
            "Epoch: 40 and loss: 0.8137770295143127\n",
            "Epoch: 50 and loss: 0.7709556818008423\n",
            "Epoch: 60 and loss: 0.730648398399353\n",
            "Epoch: 70 and loss: 0.6934369206428528\n",
            "Epoch: 80 and loss: 0.6593233942985535\n",
            "Epoch: 90 and loss: 0.6277225613594055\n",
            "Epoch: 100 and loss: 0.5980075597763062\n",
            "Epoch: 110 and loss: 0.5699834823608398\n",
            "Epoch: 120 and loss: 0.543448269367218\n",
            "Epoch: 130 and loss: 0.5181557536125183\n",
            "Epoch: 140 and loss: 0.49388569593429565\n",
            "Epoch: 150 and loss: 0.46985533833503723\n",
            "Epoch: 160 and loss: 0.44589322805404663\n",
            "Epoch: 170 and loss: 0.4226751923561096\n",
            "Epoch: 180 and loss: 0.40219879150390625\n",
            "Epoch: 190 and loss: 0.38283076882362366\n",
            "Epoch: 200 and loss: 0.3647717237472534\n",
            "Epoch: 210 and loss: 0.34780967235565186\n",
            "Epoch: 220 and loss: 0.33181726932525635\n",
            "Epoch: 230 and loss: 0.3167153298854828\n",
            "Epoch: 240 and loss: 0.30239829421043396\n",
            "Epoch: 250 and loss: 0.2888069450855255\n",
            "Epoch: 260 and loss: 0.2758397161960602\n",
            "Epoch: 270 and loss: 0.2634815573692322\n",
            "Epoch: 280 and loss: 0.25165650248527527\n",
            "Epoch: 290 and loss: 0.24036116898059845\n",
            "Epoch: 300 and loss: 0.22960227727890015\n",
            "Epoch: 310 and loss: 0.21964217722415924\n",
            "Epoch: 320 and loss: 0.21016666293144226\n",
            "Epoch: 330 and loss: 0.2001439929008484\n",
            "Epoch: 340 and loss: 0.19018402695655823\n",
            "Epoch: 350 and loss: 0.18130239844322205\n",
            "Epoch: 360 and loss: 0.17291449010372162\n",
            "Epoch: 370 and loss: 0.16514776647090912\n",
            "Epoch: 380 and loss: 0.15787503123283386\n",
            "Epoch: 390 and loss: 0.15104979276657104\n",
            "Epoch: 400 and loss: 0.14462661743164062\n",
            "Epoch: 410 and loss: 0.13852418959140778\n",
            "Epoch: 420 and loss: 0.13221381604671478\n",
            "Epoch: 430 and loss: 0.12599565088748932\n",
            "Epoch: 440 and loss: 0.12023257464170456\n",
            "Epoch: 450 and loss: 0.11499093472957611\n",
            "Epoch: 460 and loss: 0.11018563061952591\n",
            "Epoch: 470 and loss: 0.10448198020458221\n",
            "Epoch: 480 and loss: 0.09702971577644348\n",
            "Epoch: 490 and loss: 0.09134252369403839\n",
            "Epoch: 500 and loss: 0.08639085292816162\n",
            "Epoch: 510 and loss: 0.08199473470449448\n",
            "Epoch: 520 and loss: 0.07808318734169006\n",
            "Epoch: 530 and loss: 0.0746036022901535\n",
            "Epoch: 540 and loss: 0.07150368392467499\n",
            "Epoch: 550 and loss: 0.0687372162938118\n",
            "Epoch: 560 and loss: 0.06626467406749725\n",
            "Epoch: 570 and loss: 0.06405065208673477\n",
            "Epoch: 580 and loss: 0.062062282115221024\n",
            "Epoch: 590 and loss: 0.060268834233284\n",
            "Epoch: 600 and loss: 0.05864620581269264\n",
            "Epoch: 610 and loss: 0.05717375501990318\n",
            "Epoch: 620 and loss: 0.05583237111568451\n",
            "Epoch: 630 and loss: 0.05460647866129875\n",
            "Epoch: 640 and loss: 0.053482525050640106\n",
            "Epoch: 650 and loss: 0.05244870483875275\n",
            "Epoch: 660 and loss: 0.051495250314474106\n",
            "Epoch: 670 and loss: 0.0506136380136013\n",
            "Epoch: 680 and loss: 0.04979611560702324\n",
            "Epoch: 690 and loss: 0.04903636872768402\n",
            "Epoch: 700 and loss: 0.04832804948091507\n",
            "Epoch: 710 and loss: 0.0476662777364254\n",
            "Epoch: 720 and loss: 0.04704640060663223\n",
            "Epoch: 730 and loss: 0.04646439105272293\n",
            "Epoch: 740 and loss: 0.045916661620140076\n",
            "Epoch: 750 and loss: 0.0454004667699337\n",
            "Epoch: 760 and loss: 0.04491249471902847\n",
            "Epoch: 770 and loss: 0.0444503054022789\n",
            "Epoch: 780 and loss: 0.04401172325015068\n",
            "Epoch: 790 and loss: 0.043594613671302795\n",
            "Epoch: 800 and loss: 0.043197136372327805\n",
            "Epoch: 810 and loss: 0.04281775653362274\n",
            "Epoch: 820 and loss: 0.04245490953326225\n",
            "Epoch: 830 and loss: 0.04210730269551277\n",
            "Epoch: 840 and loss: 0.04177390784025192\n",
            "Epoch: 850 and loss: 0.04145350307226181\n",
            "Epoch: 860 and loss: 0.041145361959934235\n",
            "Epoch: 870 and loss: 0.040848273783922195\n",
            "Epoch: 880 and loss: 0.04056137427687645\n",
            "Epoch: 890 and loss: 0.040283918380737305\n",
            "Epoch: 900 and loss: 0.040015194565057755\n",
            "Epoch: 910 and loss: 0.03975468501448631\n",
            "Epoch: 920 and loss: 0.03950170427560806\n",
            "Epoch: 930 and loss: 0.039255913347005844\n",
            "Epoch: 940 and loss: 0.039017077535390854\n",
            "Epoch: 950 and loss: 0.03878457844257355\n",
            "Epoch: 960 and loss: 0.03855792060494423\n",
            "Epoch: 970 and loss: 0.03833688795566559\n",
            "Epoch: 980 and loss: 0.03812102973461151\n",
            "Epoch: 990 and loss: 0.03790998086333275\n"
          ]
        }
      ]
    },
    {
      "cell_type": "code",
      "source": [
        "# Graph plotting\n",
        "plt.plot(range(epochs),losses)\n",
        "plt.ylabel(\"loss/error\")\n",
        "plt.xlabel(\"Epoch\")"
      ],
      "metadata": {
        "colab": {
          "base_uri": "https://localhost:8080/",
          "height": 472
        },
        "id": "St7Zj1JVkuSX",
        "outputId": "91ccd596-2dce-4ebc-acef-44b09a1fc23b"
      },
      "execution_count": null,
      "outputs": [
        {
          "output_type": "execute_result",
          "data": {
            "text/plain": [
              "Text(0.5, 0, 'Epoch')"
            ]
          },
          "metadata": {},
          "execution_count": 44
        },
        {
          "output_type": "display_data",
          "data": {
            "text/plain": [
              "<Figure size 640x480 with 1 Axes>"
            ],
            "image/png": "[encoded data removed]"
          },
          "metadata": {}
        }
      ]
    },
    {
      "cell_type": "code",
      "source": [
        "# Evaluate Model\n",
        "with torch.no_grad(): # Turns off backpropagation\n",
        "  Y_eval = model.forward(X_test)\n",
        "  loss = criterion(Y_eval,Y_test)"
      ],
      "metadata": {
        "id": "3hCW8gc9lAoo"
      },
      "execution_count": null,
      "outputs": []
    },
    {
      "cell_type": "code",
      "source": [
        "loss"
      ],
      "metadata": {
        "colab": {
          "base_uri": "https://localhost:8080/"
        },
        "id": "5Z7lc9uqmWHO",
        "outputId": "1c456d5c-b07d-4eb5-82e2-f7791c029cbd"
      },
      "execution_count": null,
      "outputs": [
        {
          "output_type": "execute_result",
          "data": {
            "text/plain": [
              "tensor(0.0937)"
            ]
          },
          "metadata": {},
          "execution_count": 46
        }
      ]
    },
    {
      "cell_type": "code",
      "source": [
        "correct = 0\n",
        "with torch.no_grad():\n",
        "  for i,data in enumerate(X_test):\n",
        "    Y_val = model.forward(data)\n",
        "\n",
        "    print(f\"{i+1}.) {str(Y_val)} \\t {Y_test[i]} \\t {Y_val.argmax().item()}\")\n",
        "\n",
        "    if(Y_val.argmax().item() == Y_test[i]):\n",
        "      correct+=1\n",
        "\n",
        "print(f\"WE got {correct} correct!\")"
      ],
      "metadata": {
        "colab": {
          "base_uri": "https://localhost:8080/"
        },
        "id": "0BoOLeLzmXRN",
        "outputId": "679dce3a-9233-4011-976e-9cadc6fce217"
      },
      "execution_count": null,
      "outputs": [
        {
          "output_type": "stream",
          "name": "stdout",
          "text": [
            "1.) tensor([ 10.2278,   1.9225, -12.1173]) \t 0 \t 0\n",
            "2.) tensor([-3.7238,  4.9159,  4.2741]) \t 1 \t 1\n",
            "3.) tensor([-3.8373,  4.3743,  4.8798]) \t 1 \t 2\n",
            "4.) tensor([-2.2586,  5.8911,  0.9301]) \t 1 \t 1\n",
            "5.) tensor([-6.3563,  2.5824, 10.8937]) \t 2 \t 2\n",
            "6.) tensor([-1.4435,  7.0007, -1.1482]) \t 1 \t 1\n",
            "7.) tensor([-4.1882,  4.3112,  5.5567]) \t 2 \t 2\n",
            "8.) tensor([  9.5363,   1.5423, -11.1752]) \t 0 \t 0\n",
            "9.) tensor([-0.1224,  5.6315, -2.0442]) \t 1 \t 1\n",
            "10.) tensor([ 0.2979,  5.1512, -2.3124]) \t 1 \t 1\n",
            "11.) tensor([  9.5593,   2.0861, -11.4379]) \t 0 \t 0\n",
            "12.) tensor([  9.2889,   2.4409, -11.2833]) \t 0 \t 0\n",
            "13.) tensor([  8.7479,   2.2883, -10.6088]) \t 0 \t 0\n",
            "14.) tensor([-3.7094,  4.8474,  4.3070]) \t 2 \t 1\n",
            "15.) tensor([  9.3524,   1.7635, -11.0646]) \t 0 \t 0\n",
            "16.) tensor([-1.7737,  6.9253, -0.6828]) \t 1 \t 1\n",
            "17.) tensor([-5.4468,  4.2926,  7.8625]) \t 2 \t 2\n",
            "18.) tensor([-5.6089,  4.0437,  8.3195]) \t 2 \t 2\n",
            "19.) tensor([-0.2538,  5.8146, -1.9805]) \t 1 \t 1\n",
            "20.) tensor([-1.8059,  5.8148,  0.1556]) \t 1 \t 1\n",
            "21.) tensor([ 0.8391,  5.4803, -3.0640]) \t 1 \t 1\n",
            "22.) tensor([-1.4304,  6.1696, -0.7508]) \t 1 \t 1\n",
            "23.) tensor([-2.6654,  5.0179,  2.2936]) \t 1 \t 1\n",
            "24.) tensor([  9.6571,   2.2340, -11.6072]) \t 0 \t 0\n",
            "25.) tensor([  9.6906,   1.8442, -11.4760]) \t 0 \t 0\n",
            "26.) tensor([-7.0891,  3.3809, 11.5052]) \t 2 \t 2\n",
            "27.) tensor([-0.7870,  5.9282, -1.4237]) \t 1 \t 1\n",
            "28.) tensor([-7.4669,  2.9480, 12.6323]) \t 2 \t 2\n",
            "29.) tensor([-6.6758,  3.0560, 10.9982]) \t 2 \t 2\n",
            "30.) tensor([ 7.6995,  2.3377, -9.4423]) \t 0 \t 0\n",
            "WE got 28 correct!\n"
          ]
        }
      ]
    },
    {
      "cell_type": "code",
      "source": [
        "torch.save(model.state_dict(),\"My_Iris_pred_model.pt\")"
      ],
      "metadata": {
        "id": "vogBecCbo0XT"
      },
      "execution_count": null,
      "outputs": []
    },
    {
      "cell_type": "code",
      "source": [
        "# Load the savel model\n",
        "new_model = Model()\n",
        "new_model.load_state_dict(torch.load('My_Iris_pred_model.pt'))"
      ],
      "metadata": {
        "colab": {
          "base_uri": "https://localhost:8080/"
        },
        "id": "e5zhLcFtsAU9",
        "outputId": "c749658e-2b2e-407c-8979-37a5a586aaa4"
      },
      "execution_count": null,
      "outputs": [
        {
          "output_type": "execute_result",
          "data": {
            "text/plain": [
              "<All keys matched successfully>"
            ]
          },
          "metadata": {},
          "execution_count": 51
        }
      ]
    },
    {
      "cell_type": "code",
      "source": [
        "new_model.eval()"
      ],
      "metadata": {
        "colab": {
          "base_uri": "https://localhost:8080/"
        },
        "id": "rgn_UI4asK2n",
        "outputId": "71656af8-2727-4ce6-d6f2-8b0e2458a8ef"
      },
      "execution_count": null,
      "outputs": [
        {
          "output_type": "execute_result",
          "data": {
            "text/plain": [
              "Model(\n",
              "  (fc1): Linear(in_features=4, out_features=8, bias=True)\n",
              "  (fc2): Linear(in_features=8, out_features=9, bias=True)\n",
              "  (out): Linear(in_features=9, out_features=3, bias=True)\n",
              ")"
            ]
          },
          "metadata": {},
          "execution_count": 52
        }
      ]
    },
    {
      "cell_type": "code",
      "source": [],
      "metadata": {
        "id": "QCkX6OErsQFy"
      },
      "execution_count": null,
      "outputs": []
    },
    {
      "cell_type": "code",
      "source": [],
      "metadata": {
        "id": "SxJPal0Pm7l3"
      },
      "execution_count": null,
      "outputs": []
    },
    {
      "cell_type": "code",
      "source": [],
      "metadata": {
        "id": "lqpWPZ_PkjKZ"
      },
      "execution_count": null,
      "outputs": []
    }
  ]
}